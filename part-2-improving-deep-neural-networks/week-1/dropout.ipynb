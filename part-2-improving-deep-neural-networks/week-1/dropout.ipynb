{
 "cells": [
  {
   "cell_type": "code",
   "execution_count": 7,
   "metadata": {},
   "outputs": [],
   "source": [
    "import numpy as np\n",
    "\n",
    "def dropout_forward(input_array, drop_prob):\n",
    "    \"\"\"\n",
    "    Applies dropout to the input input_array during the forward pass.\n",
    "    \n",
    "    Parameters:\n",
    "    input_array -- input array (numpy array of any shape)\n",
    "    drop_prob -- probability of dropping a neuron (float between 0 and 1)\n",
    "    \n",
    "    Returns:\n",
    "    out -- output array with dropout applied\n",
    "    mask -- dropout mask to be used in the backward pass\n",
    "    \"\"\"\n",
    "    \n",
    "    # Step 1: Generate a matrix of random values between 0 and 1 with the same shape as x\n",
    "    random_matrix = np.random.rand(*input_array.shape)\n",
    "    \n",
    "    # Step 2: Create the dropout mask\n",
    "    # Compare the random values with the dropout probability p\n",
    "    mask_boolean = random_matrix > drop_prob\n",
    "    \n",
    "    # Step 3: Convert the boolean mask to a float mask\n",
    "    # True becomes 1.0 and False becomes 0.0\n",
    "    mask_float = mask_boolean.astype(float)\n",
    "    \n",
    "    # Step 4: Scale the mask to maintain the expected value of the activations\n",
    "    # This compensates for the dropped neurons\n",
    "    mask_scaled = mask_float / (1 - drop_prob)\n",
    "    \n",
    "    # Step 5: Apply the mask to the input x\n",
    "    out = x * mask_scaled\n",
    "    \n",
    "    # Return the output with dropout applied and the mask\n",
    "    return out, mask_scaled"
   ]
  },
  {
   "cell_type": "code",
   "execution_count": 6,
   "metadata": {},
   "outputs": [
    {
     "name": "stdout",
     "output_type": "stream",
     "text": [
      "Input x:\n",
      "[[0.1 0.2 0.3]\n",
      " [0.4 0.5 0.6]\n",
      " [0.2 0.5 0.6]\n",
      " [0.4 0.3 0.6]\n",
      " [0.4 0.5 0.1]]\n",
      "Random matrix:\n",
      "Output with dropout applied:\n",
      "[[0.125 0.    0.375]\n",
      " [0.    0.625 0.75 ]\n",
      " [0.25  0.    0.75 ]\n",
      " [0.5   0.375 0.75 ]\n",
      " [0.5   0.625 0.125]]\n",
      "mask:\n",
      "[[1.25 0.   1.25]\n",
      " [0.   1.25 1.25]\n",
      " [1.25 0.   1.25]\n",
      " [1.25 1.25 1.25]\n",
      " [1.25 1.25 1.25]]\n"
     ]
    }
   ],
   "source": [
    "# Example usage\n",
    "x = np.array([[0.1, 0.2, 0.3], \n",
    "              [0.4, 0.5, 0.6],\n",
    "              [0.2, 0.5, 0.6],\n",
    "              [0.4, 0.3, 0.6],\n",
    "              [0.4, 0.5, 0.1]])\n",
    "drop_prob = 0.2\n",
    "\n",
    "out, mask = dropout_forward(input_array= x,drop_prob = drop_prob)\n",
    "print(\"Input x:\")\n",
    "print(x)\n",
    "print(\"Random matrix:\")\n",
    "print(\"Output with dropout applied:\")\n",
    "print(out)\n",
    "print(\"mask:\")\n",
    "print(mask)"
   ]
  }
 ],
 "metadata": {
  "kernelspec": {
   "display_name": "virtual_env",
   "language": "python",
   "name": "python3"
  },
  "language_info": {
   "codemirror_mode": {
    "name": "ipython",
    "version": 3
   },
   "file_extension": ".py",
   "mimetype": "text/x-python",
   "name": "python",
   "nbconvert_exporter": "python",
   "pygments_lexer": "ipython3",
   "version": "3.10.12"
  }
 },
 "nbformat": 4,
 "nbformat_minor": 2
}
